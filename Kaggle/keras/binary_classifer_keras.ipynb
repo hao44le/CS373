{
 "cells": [
  {
   "cell_type": "code",
   "execution_count": 1,
   "metadata": {
    "collapsed": true,
    "deletable": true,
    "editable": true
   },
   "outputs": [],
   "source": [
    "# Import libraries for data wrangling, preprocessing and visualization\n",
    "import numpy \n",
    "import pandas as pd\n",
    "import matplotlib.pyplot as plt\n",
    "import seaborn as sns\n",
    "%matplotlib inline\n",
    "from sklearn.model_selection import train_test_split\n",
    "from sklearn.preprocessing import LabelEncoder\n",
    "from sklearn.preprocessing import StandardScaler\n",
    "from sklearn.pipeline import Pipeline"
   ]
  },
  {
   "cell_type": "code",
   "execution_count": 2,
   "metadata": {
    "collapsed": false,
    "deletable": true,
    "editable": true
   },
   "outputs": [
    {
     "name": "stderr",
     "output_type": "stream",
     "text": [
      "Using TensorFlow backend.\n"
     ]
    }
   ],
   "source": [
    "# Importing libraries for building the neural network\n",
    "from keras.models import Sequential\n",
    "from keras.layers import Dense\n",
    "from keras.wrappers.scikit_learn import KerasClassifier\n",
    "from sklearn.model_selection import StratifiedKFold\n",
    "from sklearn.model_selection import cross_val_score"
   ]
  },
  {
   "cell_type": "code",
   "execution_count": 4,
   "metadata": {
    "collapsed": false,
    "deletable": true,
    "editable": true
   },
   "outputs": [],
   "source": [
    "# Read data file\n",
    "data = pd.read_csv(\"Loan_Training.csv\", header=0)\n",
    "seed = 5\n",
    "numpy.random.seed(seed)"
   ]
  },
  {
   "cell_type": "code",
   "execution_count": 5,
   "metadata": {
    "collapsed": false,
    "deletable": true,
    "editable": true
   },
   "outputs": [
    {
     "name": "stdout",
     "output_type": "stream",
     "text": [
      "   Loan ID  Amount Requested  Amount Funded By Investors Interest Rate  \\\n",
      "0  2227104             12000                     12000.0        13.11%   \n",
      "\n",
      "  Loan Length CREDIT Grade               Loan Title Loan Purpose  \\\n",
      "0   36 months           B4  Credit card refinancing  credit_card   \n",
      "\n",
      "   Monthly PAYMENT  Total Amount Funded   ...    \\\n",
      "0           404.97                12000   ...     \n",
      "\n",
      "  Inquiries in the Last 6 Months Accounts Now Delinquent Delinquent Amount  \\\n",
      "0                            0.0                     0.0               0.0   \n",
      "\n",
      "  Delinquencies (Last 2 yrs)  Months Since Last Delinquency  \\\n",
      "0                        0.0                           34.0   \n",
      "\n",
      "  Public Records On File Months Since Last Record  Education  \\\n",
      "0                    0.0                      NaN        NaN   \n",
      "\n",
      "   Employment Length  Status  \n",
      "0            7 years       0  \n",
      "\n",
      "[1 rows x 31 columns]\n"
     ]
    }
   ],
   "source": [
    "# Take a look at the data\n",
    "print(data.head(1))"
   ]
  },
  {
   "cell_type": "code",
   "execution_count": 6,
   "metadata": {
    "collapsed": false,
    "deletable": true,
    "editable": true
   },
   "outputs": [
    {
     "name": "stdout",
     "output_type": "stream",
     "text": [
      "<class 'pandas.core.frame.DataFrame'>\n",
      "RangeIndex: 20000 entries, 0 to 19999\n",
      "Data columns (total 31 columns):\n",
      "Loan ID                           20000 non-null int64\n",
      "Amount Requested                  20000 non-null int64\n",
      "Amount Funded By Investors        20000 non-null float64\n",
      "Interest Rate                     20000 non-null object\n",
      "Loan Length                       20000 non-null object\n",
      "CREDIT Grade                      20000 non-null object\n",
      "Loan Title                        19995 non-null object\n",
      "Loan Purpose                      20000 non-null object\n",
      "Monthly PAYMENT                   20000 non-null float64\n",
      "Total Amount Funded               20000 non-null int64\n",
      "Debt-To-Income Ratio              20000 non-null object\n",
      "City                              20000 non-null object\n",
      "State                             20000 non-null object\n",
      "Home Ownership                    20000 non-null object\n",
      "Monthly Income                    20000 non-null float64\n",
      "FICO Range                        19986 non-null object\n",
      "Earliest CREDIT Line              19978 non-null object\n",
      "Open CREDIT Lines                 19978 non-null float64\n",
      "Total CREDIT Lines                19978 non-null float64\n",
      "Revolving CREDIT Balance          19978 non-null float64\n",
      "Revolving Line Utilization        19938 non-null object\n",
      "Inquiries in the Last 6 Months    19978 non-null float64\n",
      "Accounts Now Delinquent           19978 non-null float64\n",
      "Delinquent Amount                 19978 non-null float64\n",
      "Delinquencies (Last 2 yrs)        19978 non-null float64\n",
      "Months Since Last Delinquency     9617 non-null float64\n",
      "Public Records On File            19978 non-null float64\n",
      "Months Since Last Record          1831 non-null float64\n",
      "Education                         4008 non-null object\n",
      "Employment Length                 20000 non-null object\n",
      "Status                            20000 non-null int64\n",
      "dtypes: float64(13), int64(4), object(14)\n",
      "memory usage: 4.7+ MB\n"
     ]
    }
   ],
   "source": [
    "# Take a look at the types of data\n",
    "data.info()"
   ]
  },
  {
   "cell_type": "code",
   "execution_count": 7,
   "metadata": {
    "collapsed": true,
    "deletable": true,
    "editable": true
   },
   "outputs": [],
   "source": [
    "# Column Unnamed : 32 holds only null values, so it is of no use to us. We simply drop that column.\n",
    "#data.drop(\"Unnamed: 32\",axis=1,inplace=True)\n",
    "#data.drop(\"id\", axis=1, inplace=True)"
   ]
  },
  {
   "cell_type": "code",
   "execution_count": 8,
   "metadata": {
    "collapsed": false,
    "deletable": true,
    "editable": true
   },
   "outputs": [
    {
     "data": {
      "text/plain": [
       "Index(['Loan ID', 'Amount Requested', 'Amount Funded By Investors',\n",
       "       'Interest Rate', 'Loan Length', 'CREDIT Grade', 'Loan Title',\n",
       "       'Loan Purpose', 'Monthly PAYMENT', 'Total Amount Funded',\n",
       "       'Debt-To-Income Ratio', 'City', 'State', 'Home Ownership',\n",
       "       'Monthly Income', 'FICO Range', 'Earliest CREDIT Line',\n",
       "       'Open CREDIT Lines', 'Total CREDIT Lines', 'Revolving CREDIT Balance',\n",
       "       'Revolving Line Utilization', 'Inquiries in the Last 6 Months',\n",
       "       'Accounts Now Delinquent', 'Delinquent Amount',\n",
       "       'Delinquencies (Last 2 yrs)', 'Months Since Last Delinquency',\n",
       "       'Public Records On File', 'Months Since Last Record', 'Education',\n",
       "       'Employment Length', 'Status'],\n",
       "      dtype='object')"
      ]
     },
     "execution_count": 8,
     "metadata": {},
     "output_type": "execute_result"
    }
   ],
   "source": [
    "# Check whether the column has been dropped\n",
    "data.columns"
   ]
  },
  {
   "cell_type": "code",
   "execution_count": 9,
   "metadata": {
    "collapsed": false,
    "deletable": true,
    "editable": true
   },
   "outputs": [],
   "source": [
    "# Select the columns to use for prediction in the neural network\n",
    "prediction_var = ['Loan ID', 'Amount Requested', 'Amount Funded By Investors',\n",
    "       'Interest Rate', 'Loan Length', 'CREDIT Grade', 'Loan Title',\n",
    "       'Loan Purpose', 'Monthly PAYMENT', 'Total Amount Funded',\n",
    "       'Debt-To-Income Ratio', 'City', 'State', 'Home Ownership',\n",
    "       'Monthly Income', 'FICO Range', 'Earliest CREDIT Line',\n",
    "       'Open CREDIT Lines', 'Total CREDIT Lines', 'Revolving CREDIT Balance',\n",
    "       'Revolving Line Utilization', 'Inquiries in the Last 6 Months',\n",
    "       'Accounts Now Delinquent', 'Delinquent Amount',\n",
    "       'Delinquencies (Last 2 yrs)', 'Months Since Last Delinquency',\n",
    "       'Public Records On File', 'Months Since Last Record', 'Education',\n",
    "       'Employment Length']\n",
    "X = data[prediction_var].values\n",
    "Y = data.Status.values"
   ]
  },
  {
   "cell_type": "code",
   "execution_count": 10,
   "metadata": {
    "collapsed": true,
    "deletable": true,
    "editable": true
   },
   "outputs": [],
   "source": [
    "# Diagnosis values are strings. Changing them into numerical values using LabelEncoder.\n",
    "encoder = LabelEncoder()\n",
    "encoder.fit(Y)\n",
    "encoded_Y = encoder.transform(Y)"
   ]
  },
  {
   "cell_type": "code",
   "execution_count": 11,
   "metadata": {
    "collapsed": true,
    "deletable": true,
    "editable": true
   },
   "outputs": [],
   "source": [
    "# Baseline model for the neural network. We choose a hidden layer of 10 neurons. The lesser number of neurons helps to eliminate the redundancies in the data and select the more important features.\n",
    "def create_baseline():\n",
    "    # create model\n",
    "    model = Sequential()\n",
    "    model.add(Dense(10, input_dim=30, kernel_initializer='normal', activation='relu'))\n",
    "    model.add(Dense(1, kernel_initializer='normal', activation='sigmoid'))\n",
    "    # Compile model. We use the the logarithmic loss function, and the Adam gradient optimizer.\n",
    "    model.compile(loss='binary_crossentropy', optimizer='adam', metrics=['accuracy'])\n",
    "    return model"
   ]
  },
  {
   "cell_type": "code",
   "execution_count": null,
   "metadata": {
    "collapsed": true,
    "deletable": true,
    "editable": true
   },
   "outputs": [],
   "source": [
    "# Evaluate model using standardized dataset. \n",
    "estimators = []\n",
    "estimators.append(('standardize', StandardScaler()))\n",
    "estimators.append(('mlp', KerasClassifier(build_fn=create_baseline, epochs=3, batch_size=5, verbose=1)))\n",
    "pipeline = Pipeline(estimators)\n",
    "kfold = StratifiedKFold(n_splits=10, shuffle=True)\n",
    "results = cross_val_score(pipeline, X, encoded_Y, cv=kfold)\n",
    "print(\"Results: %.2f%% (%.2f%%)\" % (results.mean()*100, results.std()*100))"
   ]
  },
  {
   "cell_type": "code",
   "execution_count": null,
   "metadata": {
    "collapsed": true,
    "deletable": true,
    "editable": true
   },
   "outputs": [],
   "source": []
  }
 ],
 "metadata": {
  "kernelspec": {
   "display_name": "Python 3",
   "language": "python",
   "name": "python3"
  },
  "language_info": {
   "codemirror_mode": {
    "name": "ipython",
    "version": 3
   },
   "file_extension": ".py",
   "mimetype": "text/x-python",
   "name": "python",
   "nbconvert_exporter": "python",
   "pygments_lexer": "ipython3",
   "version": "3.6.1"
  }
 },
 "nbformat": 4,
 "nbformat_minor": 2
}
