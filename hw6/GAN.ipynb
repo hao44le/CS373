{
 "cells": [
  {
   "cell_type": "code",
   "execution_count": 1,
   "metadata": {
    "collapsed": true
   },
   "outputs": [],
   "source": [
    "from sklearn.datasets import make_moons\n",
    "from sklearn.model_selection import train_test_split\n",
    "import numpy as np\n",
    "import pylab\n",
    "\n",
    "X, _ = make_moons(n_samples=5000, random_state=42, noise=0.1)"
   ]
  },
  {
   "cell_type": "code",
   "execution_count": 2,
   "metadata": {
    "collapsed": false
   },
   "outputs": [
    {
     "data": {
      "image/png": "[encoded data removed]",
      "text/plain": [
       "<matplotlib.figure.Figure at 0x109331160>"
      ]
     },
     "metadata": {},
     "output_type": "display_data"
    }
   ],
   "source": [
    "pylab.scatter(X[:,0], X[:,1])\n",
    "pylab.show()"
   ]
  },
  {
   "cell_type": "code",
   "execution_count": 3,
   "metadata": {
    "collapsed": true
   },
   "outputs": [],
   "source": [
    "# Import the torch functions\n",
    "import torch\n",
    "import torch.nn as nn\n",
    "import torch.nn.functional as F\n",
    "import torch.optim as optim\n",
    "from torch.autograd import Variable\n"
   ]
  },
  {
   "cell_type": "code",
   "execution_count": 4,
   "metadata": {
    "collapsed": true
   },
   "outputs": [],
   "source": [
    "# Define the z (the random input to the GAN)\n",
    "def z(n):\n",
    "    return torch.Tensor(np.random.normal(0, 1, (n,2)))  # Gaussian"
   ]
  },
  {
   "cell_type": "code",
   "execution_count": 5,
   "metadata": {
    "collapsed": true
   },
   "outputs": [],
   "source": [
    "# Generator\n",
    "g_input_size = 2     # Dimension of random noise given to generator\n",
    "g_hidden_size = 50   # Number of hidden units of the generator complexity\n",
    "g_output_size = 2    # size of generated output vector\n",
    "\n",
    "class Generator(nn.Module):\n",
    "    def __init__(self, input_size, hidden_size, output_size):\n",
    "        super(Generator, self).__init__()\n",
    "        self.layer1 = nn.Linear(input_size, hidden_size)\n",
    "        self.layer2 = nn.Linear(hidden_size, hidden_size)\n",
    "        self.layer3 = nn.Linear(hidden_size, output_size)\n",
    "\n",
    "    def forward(self, x):\n",
    "        x = F.elu(self.layer1(x)) # ELU activations are like ReLU activations but without zero gradients for ELU(x), x < 0.\n",
    "        x = F.sigmoid(self.layer2(x))\n",
    "        return self.layer3(x)"
   ]
  },
  {
   "cell_type": "code",
   "execution_count": 6,
   "metadata": {
    "collapsed": true
   },
   "outputs": [],
   "source": [
    "# Generator creation\n",
    "G = Generator(input_size=g_input_size, hidden_size=g_hidden_size, output_size=g_output_size)\n",
    "\n",
    "g_learning_rate = 2e-4\n",
    "optim_betas = (0.9, 0.999)\n",
    "\n",
    "g_optimizer = optim.Adam(G.parameters(), lr=g_learning_rate, betas=optim_betas)\n"
   ]
  },
  {
   "cell_type": "code",
   "execution_count": 7,
   "metadata": {
    "collapsed": true
   },
   "outputs": [],
   "source": [
    "# Discriminator (classifier) creation\n",
    "# Define the mini-batch sizes\n",
    "minibatch_size = 100\n",
    "\n",
    "d_input_size = 2     # Input to the discriminator (will determine 'real' or 'fake')\n",
    "d_hidden_size = 50   # Number of hidden units of the discriminator\n",
    "d_output_size = 1    # Output of discriminator for 'real' vs. 'fake' classes\n",
    "\n",
    "\n",
    "class Discriminator(nn.Module):\n",
    "    def __init__(self, input_size, hidden_size, output_size):\n",
    "        super(Discriminator, self).__init__()\n",
    "        self.layer1 = nn.Linear(input_size, hidden_size)\n",
    "        self.layer2 = nn.Linear(hidden_size, hidden_size)\n",
    "        self.layer3 = nn.Linear(hidden_size, output_size)\n",
    "\n",
    "    def forward(self, x):\n",
    "        x = F.elu(self.layer1(x))\n",
    "        x = F.elu(self.layer2(x))\n",
    "        return F.sigmoid(self.layer3(x))"
   ]
  },
  {
   "cell_type": "code",
   "execution_count": 8,
   "metadata": {
    "collapsed": true
   },
   "outputs": [],
   "source": [
    "D = Discriminator(input_size=d_input_size, hidden_size=d_hidden_size, output_size=d_output_size)\n",
    "\n",
    "# Negative log-likelihood loss (aka, cross-entropy loss) for binary classes (fake, real)\n",
    "loss = nn.BCELoss() \n",
    "\n",
    "d_learning_rate = 2e-4\n",
    "optim_betas = (0.9, 0.999) # paramters specific to Adam optimnization (not part of this lecture)\n",
    "\n",
    "d_optimizer = optim.Adam(D.parameters(), lr=d_learning_rate, betas=optim_betas)"
   ]
  },
  {
   "cell_type": "code",
   "execution_count": 9,
   "metadata": {
    "collapsed": false
   },
   "outputs": [
    {
     "name": "stdout",
     "output_type": "stream",
     "text": [
      "Variable containing:\n",
      " 0.5143\n",
      " 0.5093\n",
      " 0.5092\n",
      "[torch.FloatTensor of size 3x1]\n",
      "\n"
     ]
    }
   ],
   "source": [
    "D.zero_grad()\n",
    "\n",
    "#  Train D on real data\n",
    "d_real_data = Variable(torch.FloatTensor(X[0:minibatch_size,:]))\n",
    "d_real_decision = D(d_real_data)\n",
    "\n",
    "print(d_real_decision[0:3,:])"
   ]
  },
  {
   "cell_type": "code",
   "execution_count": 10,
   "metadata": {
    "collapsed": true
   },
   "outputs": [],
   "source": [
    "d_real_error = loss(d_real_decision, Variable(torch.Tensor([[1]]*100)))  # ones = true data\n",
    "d_real_error.backward() # store gradients, but don't change params yet because we are not done with the examples"
   ]
  },
  {
   "cell_type": "code",
   "execution_count": 11,
   "metadata": {
    "collapsed": false
   },
   "outputs": [
    {
     "name": "stdout",
     "output_type": "stream",
     "text": [
      "Variable containing:\n",
      " 0.5010\n",
      " 0.5024\n",
      " 0.5021\n",
      "[torch.FloatTensor of size 3x1]\n",
      "\n"
     ]
    }
   ],
   "source": [
    "d_gen_input = Variable(z(minibatch_size)) # Input to the Generator\n",
    "d_fake_data = G(d_gen_input).detach()  # Generate outputs and detach to avoid training the Generator on these labels... \n",
    "                                       # ...just get the examples\n",
    "d_fake_decision = D(d_fake_data)  # Perform a foward pass using the fake data\n",
    "print(d_fake_decision[0:3,:]) # print the decitions"
   ]
  },
  {
   "cell_type": "code",
   "execution_count": 12,
   "metadata": {
    "collapsed": true
   },
   "outputs": [],
   "source": [
    "d_fake_error = loss(d_fake_decision, Variable(torch.Tensor([[0]]*100)))  # zeros = fake\n",
    "d_fake_error.backward() # this will append the gradients of these examples to the \n",
    "                          # previous gradients (computed over the real data)"
   ]
  },
  {
   "cell_type": "code",
   "execution_count": 13,
   "metadata": {
    "collapsed": true
   },
   "outputs": [],
   "source": [
    "d_optimizer.step()     # Only optimizes Discriminator's parameters; \n",
    "                      #   the updates are based on the stored gradients from backward()"
   ]
  },
  {
   "cell_type": "code",
   "execution_count": 14,
   "metadata": {
    "collapsed": true
   },
   "outputs": [],
   "source": [
    "G.zero_grad() # must zero the Generator gradient\n",
    "\n",
    "d_gen_input = Variable(z(minibatch_size))\n",
    "d_fake_data = G(d_gen_input).detach()  # detach to avoid training G on these labels"
   ]
  },
  {
   "cell_type": "code",
   "execution_count": 15,
   "metadata": {
    "collapsed": true
   },
   "outputs": [],
   "source": [
    "dg_fake_decision = D(d_fake_data)\n",
    "\n",
    "# we want to fool the classifier, so pretend it's all real data and we will train G to \n",
    "#   minimize this loss (maximize the likelihood of getting the fake data to have labels \"1\" (true data))\n",
    "g_error = loss(dg_fake_decision, Variable(torch.Tensor([[1]]*100)))  \n",
    "\n",
    "g_error.backward() # Get Generator gradients\n",
    "\n",
    "g_optimizer.step()  # Only optimizes G's parameters"
   ]
  },
  {
   "cell_type": "code",
   "execution_count": 16,
   "metadata": {
    "collapsed": false,
    "scrolled": false
   },
   "outputs": [
    {
     "name": "stdout",
     "output_type": "stream",
     "text": [
      "0\n",
      "10\n",
      "20\n",
      "30\n",
      "40\n",
      "50\n",
      "60\n",
      "70\n",
      "80\n",
      "90\n",
      "100\n",
      "110\n",
      "120\n",
      "130\n",
      "140\n",
      "150\n",
      "160\n",
      "170\n",
      "180\n",
      "190\n",
      "200\n",
      "210\n",
      "220\n",
      "230\n",
      "240\n",
      "250\n",
      "260\n",
      "270\n",
      "280\n",
      "290\n",
      "300\n",
      "310\n",
      "320\n",
      "330\n",
      "340\n",
      "350\n",
      "360\n",
      "370\n",
      "380\n",
      "390\n",
      "400\n",
      "410\n",
      "420\n",
      "430\n",
      "440\n",
      "450\n",
      "460\n",
      "470\n",
      "480\n",
      "490\n",
      "500\n",
      "510\n",
      "520\n",
      "530\n",
      "540\n",
      "550\n",
      "560\n",
      "570\n",
      "580\n",
      "590\n",
      "600\n",
      "610\n",
      "620\n",
      "630\n",
      "640\n",
      "650\n",
      "660\n",
      "670\n",
      "680\n",
      "690\n",
      "700\n",
      "710\n",
      "720\n",
      "730\n",
      "740\n",
      "750\n",
      "760\n",
      "770\n",
      "780\n",
      "790\n",
      "800\n",
      "810\n",
      "820\n",
      "830\n",
      "840\n",
      "850\n",
      "860\n",
      "870\n",
      "880\n",
      "890\n",
      "900\n",
      "910\n",
      "920\n",
      "930\n",
      "940\n",
      "950\n",
      "960\n",
      "970\n",
      "980\n",
      "990\n",
      "1000\n",
      "1010\n",
      "1020\n",
      "1030\n",
      "1040\n",
      "1050\n",
      "1060\n",
      "1070\n",
      "1080\n",
      "1090\n",
      "1100\n",
      "1110\n",
      "1120\n",
      "1130\n",
      "1140\n",
      "1150\n",
      "1160\n",
      "1170\n",
      "1180\n",
      "1190\n",
      "1200\n",
      "1210\n",
      "1220\n",
      "1230\n",
      "1240\n",
      "1250\n",
      "1260\n",
      "1270\n",
      "1280\n",
      "1290\n",
      "1300\n",
      "1310\n",
      "1320\n",
      "1330\n",
      "1340\n",
      "1350\n",
      "1360\n",
      "1370\n",
      "1380\n",
      "1390\n",
      "1400\n",
      "1410\n",
      "1420\n",
      "1430\n",
      "1440\n",
      "1450\n",
      "1460\n",
      "1470\n",
      "1480\n",
      "1490\n",
      "1500\n",
      "1510\n",
      "1520\n",
      "1530\n",
      "1540\n",
      "1550\n",
      "1560\n",
      "1570\n",
      "1580\n",
      "1590\n",
      "1600\n",
      "1610\n",
      "1620\n",
      "1630\n",
      "1640\n",
      "1650\n",
      "1660\n",
      "1670\n",
      "1680\n",
      "1690\n",
      "1700\n",
      "1710\n",
      "1720\n",
      "1730\n",
      "1740\n",
      "1750\n",
      "1760\n",
      "1770\n",
      "1780\n",
      "1790\n",
      "1800\n",
      "1810\n",
      "1820\n",
      "1830\n",
      "1840\n",
      "1850\n",
      "1860\n",
      "1870\n",
      "1880\n",
      "1890\n",
      "1900\n",
      "1910\n",
      "1920\n",
      "1930\n",
      "1940\n",
      "1950\n",
      "1960\n",
      "1970\n",
      "1980\n",
      "1990\n"
     ]
    }
   ],
   "source": [
    "num_epochs = 2000\n",
    "\n",
    "d_steps = 100 # number of gradient steps of discriminator per minibatch\n",
    "g_steps = 100 # number of gradient steps of generator per minibatch\n",
    "\n",
    "print_interval = 10\n",
    "batch_no = 0\n",
    "\n",
    "for epoch in range(num_epochs):\n",
    "    for d_index in range(d_steps):\n",
    "        # 1. Train Discriminator on real+fake\n",
    "\n",
    "        D.zero_grad()\n",
    "\n",
    "        #  Train D on real data\n",
    "        d_real_data = Variable(torch.FloatTensor(X[(batch_no*minibatch_size):((batch_no+1)*minibatch_size),:]))\n",
    "        d_real_decision = D(d_real_data)\n",
    "        d_real_error = loss(d_real_decision, Variable(torch.Tensor([[1]]*100)))  # ones = true data\n",
    "        d_real_error.backward() # store gradients, but don't change params yet\n",
    "        \n",
    "        batch_no += 1\n",
    "        if batch_no >= 5000/minibatch_size:\n",
    "            batch_no = 0\n",
    "        \n",
    "        d_gen_input = Variable(z(minibatch_size))\n",
    "        d_fake_data = G(d_gen_input).detach()  # Generate outputs and detach to avoid training the Generator on these labels\n",
    "        d_fake_decision = D(d_fake_data)\n",
    "        d_fake_error = loss(d_fake_decision, Variable(torch.Tensor([[0]]*100)))  # zeros = fake data\n",
    "        d_fake_error.backward()\n",
    "        d_optimizer.step()     # Only optimizes D based on stored gradients from both backwards\n",
    "\n",
    "    for g_index in range(g_steps):\n",
    "        # 2. Train Generator on Discriminator's response (but WE WILL NOT train Discriminator on these labels)\n",
    "        G.zero_grad()\n",
    "\n",
    "        d_gen_input = Variable(z(minibatch_size))\n",
    "        d_fake_data = G(d_gen_input)  # we will be training G on these labels\n",
    "        dg_fake_decision = D(d_fake_data)\n",
    "        g_error = loss(dg_fake_decision, Variable(torch.Tensor([[1]]*100)))  # we want to fool, so pretend it's all genuine\n",
    "        g_error.backward()\n",
    "        g_optimizer.step()  # Only optimizes G's parameters\n",
    "\n",
    "    if epoch % print_interval == 0:\n",
    "        print(\"%s\" % (epoch))"
   ]
  },
  {
   "cell_type": "code",
   "execution_count": 17,
   "metadata": {
    "collapsed": false
   },
   "outputs": [
    {
     "data": {
      "image/png": "[encoded data removed]",
      "text/plain": [
       "<matplotlib.figure.Figure at 0x11a11a588>"
      ]
     },
     "metadata": {},
     "output_type": "display_data"
    }
   ],
   "source": [
    "noise = z(5000).numpy()\n",
    "\n",
    "pylab.scatter(noise[:,0], noise[:,1])\n",
    "pylab.show()"
   ]
  },
  {
   "cell_type": "code",
   "execution_count": 18,
   "metadata": {
    "collapsed": false
   },
   "outputs": [
    {
     "data": {
      "image/png": "[encoded data removed]",
      "text/plain": [
       "<matplotlib.figure.Figure at 0x10927cd30>"
      ]
     },
     "metadata": {},
     "output_type": "display_data"
    }
   ],
   "source": [
    "d_gen_input = Variable(z(5000))\n",
    "d_fake_data = G(d_gen_input).detach().data.numpy()\n",
    "\n",
    "pylab.scatter(X[:,0], X[:,1],c=\"blue\")\n",
    "pylab.scatter(d_fake_data[:,0], d_fake_data[:,1],c=\"red\")\n",
    "pylab.show()"
   ]
  },
  {
   "cell_type": "code",
   "execution_count": null,
   "metadata": {
    "collapsed": true
   },
   "outputs": [],
   "source": []
  }
 ],
 "metadata": {
  "kernelspec": {
   "display_name": "Python 3",
   "language": "python",
   "name": "python3"
  },
  "language_info": {
   "codemirror_mode": {
    "name": "ipython",
    "version": 3
   },
   "file_extension": ".py",
   "mimetype": "text/x-python",
   "name": "python",
   "nbconvert_exporter": "python",
   "pygments_lexer": "ipython3",
   "version": "3.6.1"
  }
 },
 "nbformat": 4,
 "nbformat_minor": 2
}
